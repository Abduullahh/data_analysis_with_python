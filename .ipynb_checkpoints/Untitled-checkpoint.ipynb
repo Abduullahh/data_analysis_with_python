{
 "cells": [
  {
   "cell_type": "code",
   "execution_count": 1,
   "id": "f9bdfe73",
   "metadata": {},
   "outputs": [],
   "source": [
    "#!pip install psycopg2"
   ]
  },
  {
   "cell_type": "code",
   "execution_count": 2,
   "id": "e9fd7b14",
   "metadata": {},
   "outputs": [],
   "source": [
    "import psycopg2"
   ]
  },
  {
   "cell_type": "code",
   "execution_count": 3,
   "id": "9a449350",
   "metadata": {},
   "outputs": [],
   "source": [
    "conn = psycopg2.connect(\"dbname = postgres user = postgres password = 650170\")"
   ]
  },
  {
   "cell_type": "code",
   "execution_count": 4,
   "id": "debe3aaa",
   "metadata": {},
   "outputs": [],
   "source": [
    "cur = conn.cursor()"
   ]
  },
  {
   "cell_type": "code",
   "execution_count": 5,
   "id": "aba61ecd",
   "metadata": {},
   "outputs": [],
   "source": [
    "cur.execute(\"select * from test limit 10;\")"
   ]
  },
  {
   "cell_type": "code",
   "execution_count": 6,
   "id": "ed68a9e9",
   "metadata": {},
   "outputs": [
    {
     "name": "stdout",
     "output_type": "stream",
     "text": [
      "('068D2A58D53614A1', 'electric_bike', datetime.datetime(2022, 6, 14, 15, 6, 12), datetime.datetime(2022, 6, 14, 15, 26, 53), None, None, None, None, Decimal('41.98'), Decimal('-87.69'), Decimal('41.93'), Decimal('-87.65'), 'casual', 'Tuesday', Decimal('20.683333333333320')) \n",
      "\n",
      "('701C8F22BB0A701D', 'classic_bike', datetime.datetime(2022, 10, 22, 15, 46, 35), datetime.datetime(2022, 10, 22, 15, 55, 2), 'Woodlawn Ave & 55th St', 'TA1307000164', 'Lake Park Ave & 53rd St', 'KA1503000059', Decimal('41.795264'), Decimal('-87.596471'), Decimal('41.79949429373'), Decimal('-87.5864498959'), 'casual', 'Saturday', Decimal('8.449999999999980')) \n",
      "\n",
      "('6AA142BA0713EB4B', 'electric_bike', datetime.datetime(2022, 7, 3, 17, 29, 14), datetime.datetime(2022, 7, 3, 17, 50, 3), None, None, None, None, Decimal('41.91'), Decimal('-87.69'), Decimal('41.96'), Decimal('-87.69'), 'casual', 'Sunday', Decimal('20.816666666666640')) \n",
      "\n",
      "('5E5B05D8E1C38BF7', 'classic_bike', datetime.datetime(2022, 10, 9, 1, 22, 26), datetime.datetime(2022, 10, 9, 1, 27, 29), 'Woodlawn Ave & 55th St', 'TA1307000164', 'Lake Park Ave & 53rd St', 'KA1503000059', Decimal('41.795264'), Decimal('-87.596471'), Decimal('41.79949429373'), Decimal('-87.5864498959'), 'casual', 'Sunday', Decimal('5.0500000000000020')) \n",
      "\n",
      "('E4BEA12605B2ED48', 'electric_bike', datetime.datetime(2022, 6, 14, 18, 45, 51), datetime.datetime(2022, 6, 14, 18, 58, 54), None, None, None, None, Decimal('41.99'), Decimal('-87.65'), Decimal('41.99'), Decimal('-87.66'), 'casual', 'Tuesday', Decimal('13.0500')) \n",
      "\n",
      "('EE3C053DB5191A33', 'electric_bike', datetime.datetime(2022, 10, 27, 15, 44, 34), datetime.datetime(2022, 10, 27, 15, 50, 38), 'Dearborn St & Adams St', 'TA1305000005', 'Columbus Dr & Randolph St', '13263', Decimal('41.87902'), Decimal('-87.629363'), Decimal('41.884728'), Decimal('-87.619521'), 'member', 'Thursday', Decimal('6.066666666666660')) \n",
      "\n",
      "('DA1BBF15C21990ED', 'electric_bike', datetime.datetime(2022, 7, 2, 10, 52, 16), datetime.datetime(2022, 7, 2, 10, 52, 35), None, None, None, None, Decimal('41.89'), Decimal('-87.65'), Decimal('41.89'), Decimal('-87.65'), 'casual', 'Saturday', Decimal('0.31666666666666680')) \n",
      "\n",
      "('A071F6CF36A1D371', 'electric_bike', datetime.datetime(2022, 10, 13, 14, 17, 29), datetime.datetime(2022, 10, 13, 14, 27, 8), 'Dearborn St & Adams St', 'TA1305000005', 'Columbus Dr & Randolph St', '13263', Decimal('41.878289223'), Decimal('-87.629478097'), Decimal('41.884728'), Decimal('-87.619521'), 'member', 'Thursday', Decimal('9.649999999999980')) \n",
      "\n",
      "('10706DB5D217FB70', 'electric_bike', datetime.datetime(2022, 7, 22, 19, 32, 30), datetime.datetime(2022, 7, 22, 19, 42, 28), None, None, 'Broadway & Cornelia Ave', '13278', Decimal('41.97'), Decimal('-87.65'), Decimal('41.945529'), Decimal('-87.646439'), 'casual', 'Friday', Decimal('9.966666666666660')) \n",
      "\n",
      "('5C669DDC96E339BA', 'classic_bike', datetime.datetime(2022, 10, 29, 16, 8, 28), datetime.datetime(2022, 10, 29, 16, 32, 19), 'South Shore Dr & 71st St', 'KA1503000002', 'Lake Park Ave & 53rd St', 'KA1503000059', Decimal('41.7664094567'), Decimal('-87.5656875719'), Decimal('41.79949429373'), Decimal('-87.5864498959'), 'member', 'Saturday', Decimal('23.8500')) \n",
      "\n"
     ]
    }
   ],
   "source": [
    "for record in cur.fetchall():\n",
    "    print(record, \"\\n\")"
   ]
  },
  {
   "cell_type": "code",
   "execution_count": 7,
   "id": "fe852909",
   "metadata": {},
   "outputs": [],
   "source": [
    "cur.close()\n",
    "conn.close()"
   ]
  },
  {
   "cell_type": "code",
   "execution_count": null,
   "id": "063584c6",
   "metadata": {},
   "outputs": [],
   "source": []
  }
 ],
 "metadata": {
  "kernelspec": {
   "display_name": "Python 3 (ipykernel)",
   "language": "python",
   "name": "python3"
  },
  "language_info": {
   "codemirror_mode": {
    "name": "ipython",
    "version": 3
   },
   "file_extension": ".py",
   "mimetype": "text/x-python",
   "name": "python",
   "nbconvert_exporter": "python",
   "pygments_lexer": "ipython3",
   "version": "3.9.16"
  }
 },
 "nbformat": 4,
 "nbformat_minor": 5
}
